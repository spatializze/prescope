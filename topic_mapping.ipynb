{
 "cells": [
  {
   "cell_type": "code",
   "execution_count": 1,
   "metadata": {},
   "outputs": [],
   "source": [
    "from minisom import MiniSom\n",
    "import pandas as pd\n",
    "from ast import literal_eval\n",
    "\n",
    "\n",
    "\n"
   ]
  },
  {
   "cell_type": "code",
   "execution_count": 2,
   "metadata": {},
   "outputs": [],
   "source": [
    "def get_memberships(self):\n",
    "    return [t[1] for t in self]"
   ]
  },
  {
   "cell_type": "code",
   "execution_count": 3,
   "metadata": {},
   "outputs": [
    {
     "name": "stdout",
     "output_type": "stream",
     "text": [
      "[0.001970364013686776, 0.001970266457647085, 0.001970268553122878, 0.00197023362852633, 0.0019702587742358446, 0.0019703167490661144, 0.0019702317658811808, 0.0019702145364135504, 0.0019702049903571606, 0.9822676777839661]\n"
     ]
    }
   ],
   "source": [
    "projects = pd.read_csv(\"data/covid-preprints_projects.csv\")\n",
    "topics = projects['topic_affiliation'].apply(literal_eval)\n",
    "# print(type(topics))\n",
    "topics = topics.apply(lambda s: get_memberships(s))\n",
    "topics = topics[:100]\n",
    "print(topics[0])"
   ]
  },
  {
   "cell_type": "code",
   "execution_count": 4,
   "metadata": {},
   "outputs": [],
   "source": [
    "som = MiniSom(100, 100, 10, sigma=0.3, learning_rate=0.5)\n",
    "som.train(topics, 1000)\n",
    "winners = []\n",
    "for cnt, sample in enumerate(topics):\n",
    "    w = som.winner(sample)\n",
    "    winners.append(w)\n",
    "    #print(w[0], ',', w[1])\n",
    "winners_out = pd.DataFrame(winners, columns=['x', 'y'])"
   ]
  },
  {
   "cell_type": "code",
   "execution_count": 6,
   "metadata": {},
   "outputs": [
    {
     "data": {
      "text/plain": [
       "array([[<AxesSubplot:title={'center':'x'}>,\n",
       "        <AxesSubplot:title={'center':'y'}>]], dtype=object)"
      ]
     },
     "execution_count": 6,
     "metadata": {},
     "output_type": "execute_result"
    },
    {
     "data": {
      "image/png": "[encoded data removed]",
      "text/plain": [
       "<Figure size 432x288 with 2 Axes>"
      ]
     },
     "metadata": {
      "needs_background": "light"
     },
     "output_type": "display_data"
    }
   ],
   "source": [
    "winners_out.hist(bins=100)"
   ]
  },
  {
   "cell_type": "code",
   "execution_count": null,
   "metadata": {},
   "outputs": [],
   "source": []
  }
 ],
 "metadata": {
  "kernelspec": {
   "display_name": "myenv",
   "language": "python",
   "name": "myenv"
  },
  "language_info": {
   "codemirror_mode": {
    "name": "ipython",
    "version": 3
   },
   "file_extension": ".py",
   "mimetype": "text/x-python",
   "name": "python",
   "nbconvert_exporter": "python",
   "pygments_lexer": "ipython3",
   "version": "3.9.1"
  }
 },
 "nbformat": 4,
 "nbformat_minor": 4
}
